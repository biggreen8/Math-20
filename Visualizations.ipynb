{
 "cells": [
  {
   "cell_type": "code",
   "execution_count": 50,
   "id": "6c1356df",
   "metadata": {},
   "outputs": [
    {
     "name": "stdout",
     "output_type": "stream",
     "text": [
      "Requirement already satisfied: seaborn in /BRAIN/circuit-alignment/work/miniconda3/envs/ca-dgx1/lib/python3.12/site-packages (0.13.2)\n",
      "Requirement already satisfied: numpy!=1.24.0,>=1.20 in /BRAIN/circuit-alignment/work/miniconda3/envs/ca-dgx1/lib/python3.12/site-packages (from seaborn) (1.26.4)\n",
      "Requirement already satisfied: pandas>=1.2 in /BRAIN/circuit-alignment/work/miniconda3/envs/ca-dgx1/lib/python3.12/site-packages (from seaborn) (2.2.2)\n",
      "Requirement already satisfied: matplotlib!=3.6.1,>=3.4 in /BRAIN/circuit-alignment/work/miniconda3/envs/ca-dgx1/lib/python3.12/site-packages (from seaborn) (3.9.0)\n",
      "Requirement already satisfied: contourpy>=1.0.1 in /BRAIN/circuit-alignment/work/miniconda3/envs/ca-dgx1/lib/python3.12/site-packages (from matplotlib!=3.6.1,>=3.4->seaborn) (1.2.1)\n",
      "Requirement already satisfied: cycler>=0.10 in /BRAIN/circuit-alignment/work/miniconda3/envs/ca-dgx1/lib/python3.12/site-packages (from matplotlib!=3.6.1,>=3.4->seaborn) (0.12.1)\n",
      "Requirement already satisfied: fonttools>=4.22.0 in /BRAIN/circuit-alignment/work/miniconda3/envs/ca-dgx1/lib/python3.12/site-packages (from matplotlib!=3.6.1,>=3.4->seaborn) (4.53.0)\n",
      "Requirement already satisfied: kiwisolver>=1.3.1 in /BRAIN/circuit-alignment/work/miniconda3/envs/ca-dgx1/lib/python3.12/site-packages (from matplotlib!=3.6.1,>=3.4->seaborn) (1.4.5)\n",
      "Requirement already satisfied: packaging>=20.0 in /BRAIN/circuit-alignment/work/miniconda3/envs/ca-dgx1/lib/python3.12/site-packages (from matplotlib!=3.6.1,>=3.4->seaborn) (24.1)\n",
      "Requirement already satisfied: pillow>=8 in /BRAIN/circuit-alignment/work/miniconda3/envs/ca-dgx1/lib/python3.12/site-packages (from matplotlib!=3.6.1,>=3.4->seaborn) (10.3.0)\n",
      "Requirement already satisfied: pyparsing>=2.3.1 in /BRAIN/circuit-alignment/work/miniconda3/envs/ca-dgx1/lib/python3.12/site-packages (from matplotlib!=3.6.1,>=3.4->seaborn) (3.1.2)\n",
      "Requirement already satisfied: python-dateutil>=2.7 in /BRAIN/circuit-alignment/work/miniconda3/envs/ca-dgx1/lib/python3.12/site-packages (from matplotlib!=3.6.1,>=3.4->seaborn) (2.9.0.post0)\n",
      "Requirement already satisfied: pytz>=2020.1 in /BRAIN/circuit-alignment/work/miniconda3/envs/ca-dgx1/lib/python3.12/site-packages (from pandas>=1.2->seaborn) (2024.1)\n",
      "Requirement already satisfied: tzdata>=2022.7 in /BRAIN/circuit-alignment/work/miniconda3/envs/ca-dgx1/lib/python3.12/site-packages (from pandas>=1.2->seaborn) (2024.1)\n",
      "Requirement already satisfied: six>=1.5 in /BRAIN/circuit-alignment/work/miniconda3/envs/ca-dgx1/lib/python3.12/site-packages (from python-dateutil>=2.7->matplotlib!=3.6.1,>=3.4->seaborn) (1.16.0)\n"
     ]
    }
   ],
   "source": [
    "!pip install seaborn"
   ]
  },
  {
   "cell_type": "code",
   "execution_count": 2,
   "id": "512b7d9a",
   "metadata": {
    "scrolled": true
   },
   "outputs": [
    {
     "ename": "ModuleNotFoundError",
     "evalue": "No module named 'matplotlib'",
     "output_type": "error",
     "traceback": [
      "\u001b[0;31m---------------------------------------------------------------------------\u001b[0m",
      "\u001b[0;31mModuleNotFoundError\u001b[0m                       Traceback (most recent call last)",
      "Cell \u001b[0;32mIn[2], line 4\u001b[0m\n\u001b[1;32m      2\u001b[0m \u001b[38;5;28;01mimport\u001b[39;00m \u001b[38;5;21;01mpickle\u001b[39;00m\n\u001b[1;32m      3\u001b[0m \u001b[38;5;28;01mimport\u001b[39;00m \u001b[38;5;21;01mitertools\u001b[39;00m\n\u001b[0;32m----> 4\u001b[0m \u001b[38;5;28;01mimport\u001b[39;00m \u001b[38;5;21;01mmatplotlib\u001b[39;00m\u001b[38;5;21;01m.\u001b[39;00m\u001b[38;5;21;01mpyplot\u001b[39;00m \u001b[38;5;28;01mas\u001b[39;00m \u001b[38;5;21;01mplt\u001b[39;00m\n\u001b[1;32m      5\u001b[0m \u001b[38;5;28;01mimport\u001b[39;00m \u001b[38;5;21;01mos\u001b[39;00m\n",
      "\u001b[0;31mModuleNotFoundError\u001b[0m: No module named 'matplotlib'"
     ]
    }
   ],
   "source": [
    "import re\n",
    "import pickle\n",
    "import itertools\n",
    "import matplotlib.pyplot as plt\n",
    "import os"
   ]
  },
  {
   "cell_type": "code",
   "execution_count": 88,
   "id": "a6b2a3d2",
   "metadata": {},
   "outputs": [],
   "source": [
    "# Directory where the .pkl files are saved (update this if needed)\n",
    "directory = \"/Users/ethansun/Downloads/Math 20 stuff\"  # Replace with the actual path"
   ]
  },
  {
   "cell_type": "code",
   "execution_count": 89,
   "id": "cee4a3a2",
   "metadata": {},
   "outputs": [],
   "source": [
    "# Define the pattern for extracting information from the strings\n",
    "ptrn = r\"(\\d+)\\s+\\+\\s+(\\d+)\\s=\\s(\\d+)\"\n",
    "search = lambda x: re.search(ptrn, x.split(\"\\n\")[2])\n",
    "filt = lambda x: (int(search(x).group(1)), int(search(x).group(2)), int(search(x).group(3)))"
   ]
  },
  {
   "cell_type": "code",
   "execution_count": 1,
   "id": "79b80a09",
   "metadata": {},
   "outputs": [
    {
     "name": "stdout",
     "output_type": "stream",
     "text": [
      "An error occurred while processing 0digit-0carry-results+new.pkl: name 'os' is not defined\n",
      "An error occurred while processing 1digit-0carry-results+new.pkl: name 'os' is not defined\n",
      "An error occurred while processing 1digit-1carry-results+new.pkl: name 'os' is not defined\n",
      "An error occurred while processing 2digit-0carry-results+new.pkl: name 'os' is not defined\n",
      "An error occurred while processing 2digit-1carry-results+new.pkl: name 'os' is not defined\n",
      "An error occurred while processing 2digit-2carry-results+new.pkl: name 'os' is not defined\n",
      "An error occurred while processing 3digit-0carry-results+new.pkl: name 'os' is not defined\n",
      "An error occurred while processing 3digit-1carry-results+new.pkl: name 'os' is not defined\n",
      "An error occurred while processing 3digit-2carry-results+new.pkl: name 'os' is not defined\n",
      "An error occurred while processing 3digit-3carry-results+new.pkl: name 'os' is not defined\n",
      "An error occurred while processing 4digit-0carry-results+new.pkl: name 'os' is not defined\n",
      "An error occurred while processing 4digit-1carry-results+new.pkl: name 'os' is not defined\n",
      "An error occurred while processing 4digit-2carry-results+new.pkl: name 'os' is not defined\n",
      "An error occurred while processing 4digit-3carry-results+new.pkl: name 'os' is not defined\n",
      "An error occurred while processing 4digit-4carry-results+new.pkl: name 'os' is not defined\n",
      "An error occurred while processing 5digit-0carry-results+new.pkl: name 'os' is not defined\n",
      "An error occurred while processing 5digit-1carry-results+new.pkl: name 'os' is not defined\n",
      "An error occurred while processing 5digit-2carry-results+new.pkl: name 'os' is not defined\n",
      "An error occurred while processing 5digit-3carry-results+new.pkl: name 'os' is not defined\n",
      "An error occurred while processing 5digit-4carry-results+new.pkl: name 'os' is not defined\n",
      "An error occurred while processing 5digit-5carry-results+new.pkl: name 'os' is not defined\n",
      "An error occurred while processing 6digit-0carry-results+new.pkl: name 'os' is not defined\n",
      "An error occurred while processing 6digit-1carry-results+new.pkl: name 'os' is not defined\n",
      "An error occurred while processing 6digit-2carry-results+new.pkl: name 'os' is not defined\n",
      "An error occurred while processing 6digit-3carry-results+new.pkl: name 'os' is not defined\n",
      "An error occurred while processing 6digit-4carry-results+new.pkl: name 'os' is not defined\n",
      "An error occurred while processing 6digit-5carry-results+new.pkl: name 'os' is not defined\n",
      "An error occurred while processing 6digit-6carry-results+new.pkl: name 'os' is not defined\n"
     ]
    }
   ],
   "source": [
    "# Iterate over each .pkl file and generate a bar graph\n",
    "for i in range(0, 7):\n",
    "    for j in range(0, i + 1):\n",
    "        try:\n",
    "            # Construct the file path\n",
    "            filename = f\"{i}digit-{j}carry-results+new.pkl\"\n",
    "            filepath = os.path.join(directory, filename)\n",
    "\n",
    "            # Load the .pkl file\n",
    "            carries = list(itertools.chain.from_iterable(pickle.load(open(filepath, \"rb\"))))\n",
    "\n",
    "            # Filter and process the results\n",
    "            filtered = [filt(v) for v in carries]\n",
    "\n",
    "            # Calculate the accuracy\n",
    "            acc = lambda x: len([v for v in x if v[0] + v[1] == v[2]]) / len(x)\n",
    "\n",
    "            # Create the bar graph\n",
    "            x = list(range(0, i+1))\n",
    "            y = [acc(filtered)]\n",
    "            plt.bar(x, y)\n",
    "            plt.ylim(0, 1)\n",
    "            plt.xlabel(\"Digit Carried\")\n",
    "            plt.ylabel(\"Accuracy\")\n",
    "            plt.title(f\"Accuracy for {i}digit-{j}carry problems\")\n",
    "            plt.savefig(f\"{i}digit-{j}carry-results.pdf\")\n",
    "            plt.clf()  # Clear the figure for the next plot\n",
    "\n",
    "        except FileNotFoundError:\n",
    "            print(f\"File {filename} not found, skipping.\")\n",
    "        except Exception as e:\n",
    "            print(f\"An error occurred while processing {filename}: {e}\")"
   ]
  },
  {
   "cell_type": "code",
   "execution_count": null,
   "id": "7fc73ccd",
   "metadata": {},
   "outputs": [],
   "source": []
  }
 ],
 "metadata": {
  "kernelspec": {
   "display_name": "Python 3 (ipykernel)",
   "language": "python",
   "name": "python3"
  },
  "language_info": {
   "codemirror_mode": {
    "name": "ipython",
    "version": 3
   },
   "file_extension": ".py",
   "mimetype": "text/x-python",
   "name": "python",
   "nbconvert_exporter": "python",
   "pygments_lexer": "ipython3",
   "version": "3.12.4"
  }
 },
 "nbformat": 4,
 "nbformat_minor": 5
}
